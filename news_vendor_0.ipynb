{
 "cells": [
  {
   "cell_type": "code",
   "execution_count": 1,
   "id": "initial_id",
   "metadata": {
    "collapsed": true,
    "ExecuteTime": {
     "end_time": "2023-12-25T09:31:20.662892344Z",
     "start_time": "2023-12-25T09:31:19.696705615Z"
    }
   },
   "outputs": [],
   "source": [
    "# Import Modules\n",
    "import pandas as pd\n",
    "import numpy  as np\n",
    "from scipy import stats\n",
    "from scipy.stats import uniform\n",
    "from scipy.stats import sem\n",
    "import matplotlib.pyplot as plt  "
   ]
  },
  {
   "cell_type": "code",
   "execution_count": 2,
   "outputs": [],
   "source": [
    "your_path = './Output_1/'"
   ],
   "metadata": {
    "collapsed": false,
    "ExecuteTime": {
     "end_time": "2023-12-25T09:31:22.073962784Z",
     "start_time": "2023-12-25T09:31:22.058169806Z"
    }
   },
   "id": "b142394ee7ae106b"
  },
  {
   "cell_type": "code",
   "execution_count": 9,
   "outputs": [],
   "source": [
    "# initialization module\n",
    " \n",
    "Price_Per_Unit   = 27.0\n",
    "Cost_Per_Unit    = 15.50\n",
    "Salvage_Per_Unit = 2.50\n",
    "\n",
    "# list_of_orders = [40]                 ## quantity ordered for the pilot run\n",
    "list_of_orders = [20,30,40,45,50,60]\n",
    "length = len(list_of_orders)\n",
    "\n",
    "bound = 10                           ## selected by the analyst \n",
    "confidence = 0.95                      ## selected by the analyst "
   ],
   "metadata": {
    "collapsed": false,
    "ExecuteTime": {
     "end_time": "2023-12-25T09:44:15.905250825Z",
     "start_time": "2023-12-25T09:44:15.889065953Z"
    }
   },
   "id": "b6f6f0c444ba5c3a"
  },
  {
   "cell_type": "code",
   "execution_count": 5,
   "outputs": [],
   "source": [
    "# historical daily demand\n",
    "daily_demand = [5, 10, 40, 45, 50, 55, 60]\n",
    "# discrete probabilities for daily demand\n",
    "pr1, pr2, pr3, pr4, pr5, pr6, pr7 = 0.1, 0.2, 0.3, 0.2, 0.1, 0.05, 0.05\n",
    " \n",
    "pr1 = round(pr1, 2)\n",
    "pr2 = round(pr1 + pr2,2)\n",
    "pr3 = round(pr2 + pr3,2)\n",
    "pr4 = round(pr3 + pr4,2)\n",
    "pr5 = round(pr4 + pr5,2)\n",
    "pr6 = round(pr5 + pr6,2)\n",
    "pr7 = round(pr6 + pr7,2)\n",
    "\n",
    "list_of_probs = [pr1, pr2, pr3, pr4, pr5, pr6, pr7]\n",
    "\n",
    "df1 = pd.DataFrame(daily_demand, columns = ['demand'])\n",
    "df2 = pd.DataFrame(list_of_probs,columns = ['range'])\n",
    " \n",
    "df_demand = pd.concat([df1, df2], axis = 1)"
   ],
   "metadata": {
    "collapsed": false,
    "ExecuteTime": {
     "end_time": "2023-12-25T09:43:27.334963738Z",
     "start_time": "2023-12-25T09:43:27.316755610Z"
    }
   },
   "id": "c49b8c487a5e845c"
  },
  {
   "cell_type": "code",
   "execution_count": 6,
   "outputs": [],
   "source": [
    "column_labels = [\"Order Quantity\", \"Mean\",\"Std.Dev\",\"Var.\",\n",
    "                 \"Std. Error\",\"Median\", \"Skewness\", \"Kurtosis\",\n",
    "                 \"CI Half Width\", \"CI LL\", 'CI UL']\n",
    "df = pd.DataFrame(columns = column_labels)"
   ],
   "metadata": {
    "collapsed": false,
    "ExecuteTime": {
     "end_time": "2023-12-25T09:43:31.620217215Z",
     "start_time": "2023-12-25T09:43:31.590999742Z"
    }
   },
   "id": "58479d2ac256b177"
  },
  {
   "cell_type": "code",
   "execution_count": 14,
   "outputs": [
    {
     "name": "stdout",
     "output_type": "stream",
     "text": [
      " The number of samples is min = 4295, max = 5605, mean = 5114.666666666667\n"
     ]
    }
   ],
   "source": [
    "#....\n",
    "Number_of_Replications = 100\n",
    "list_numb_of_samples = []\n",
    "for j in range(length):\n",
    "    list_of_profits = []\n",
    "    for run in range(Number_of_Replications):\n",
    "        # uniform distribution for a random variate\n",
    "        r_v = uniform.rvs(size=1)\n",
    "             \n",
    "        for i,row in df_demand.iterrows():\n",
    "            probab = df_demand.loc[i, 'range']\n",
    "             \n",
    "            if r_v < probab:\n",
    "                Qty_Demand = df_demand.loc[i, 'demand']\n",
    "                break\n",
    "        \n",
    "        Qty_Ordered = 40 ## list_of_orders[j]\n",
    "        \n",
    "        Qty_Sold = np.minimum(Qty_Demand, Qty_Ordered)\n",
    "        Qty_Left = np.maximum(0, Qty_Ordered - Qty_Demand)\n",
    "         \n",
    "        Revenue_per_Sales = Qty_Sold * Price_Per_Unit        \n",
    "        Revenue_per_Salvage = Qty_Left * Salvage_Per_Unit        \n",
    "        Cost_per_Order =  Qty_Ordered * Cost_Per_Unit\n",
    "        \n",
    "        Profit = Revenue_per_Sales +  Revenue_per_Salvage - Cost_per_Order        \n",
    "        list_of_profits.append(Profit)\n",
    "    \n",
    "    media = np.mean(list_of_profits)\n",
    "    stand = np.std(list_of_profits)\n",
    "                \n",
    "    dof  = Number_of_Replications - 1    \n",
    "    t_crit = np.abs(stats.t.ppf((1-confidence)/2,dof))\n",
    "\n",
    "    numb_of_samples = int((stand *t_crit / bound) ** 2)\n",
    "    list_numb_of_samples.append(numb_of_samples)\n",
    "    # print('')\n",
    "    # print(' The number of samples is %3s' %numb_of_samples)\n",
    "print(f' The number of samples is min = {min(list_numb_of_samples)}, max = {max(list_numb_of_samples)}, mean = {np.mean(list_numb_of_samples)}')"
   ],
   "metadata": {
    "collapsed": false,
    "ExecuteTime": {
     "end_time": "2023-12-25T09:52:00.742191219Z",
     "start_time": "2023-12-25T09:52:00.564099751Z"
    }
   },
   "id": "eb280bf21e3f8ba3"
  }
 ],
 "metadata": {
  "kernelspec": {
   "display_name": "Python 3",
   "language": "python",
   "name": "python3"
  },
  "language_info": {
   "codemirror_mode": {
    "name": "ipython",
    "version": 2
   },
   "file_extension": ".py",
   "mimetype": "text/x-python",
   "name": "python",
   "nbconvert_exporter": "python",
   "pygments_lexer": "ipython2",
   "version": "2.7.6"
  }
 },
 "nbformat": 4,
 "nbformat_minor": 5
}
